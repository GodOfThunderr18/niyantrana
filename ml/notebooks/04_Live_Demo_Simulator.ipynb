{
 "cells": [
  {
   "cell_type": "markdown",
   "id": "f77e62cc",
   "metadata": {},
   "source": [
    "# Live Demo: The NAFLD Proactive Health Engine\n",
    "\n",
    "**Objective:** This notebook simulates the core AI functionalities of our platform. We will walk through a user's journey to demonstrate:\n",
    "1.  **Real-Time Risk Forecasting:** Using our multi-modal deep learning model to predict a user's liver health biomarkers.\n",
    "2.  **Intelligent Triage:** How our system decides the most critical health advice a user needs right now.\n",
    "3.  **Generative AI Coaching:** Using a RAG architecture to provide personalized, empathetic, and actionable recommendations."
   ]
  },
  {
   "cell_type": "code",
   "execution_count": 11,
   "id": "f34dc851",
   "metadata": {},
   "outputs": [
    {
     "name": "stdout",
     "output_type": "stream",
     "text": [
      "Simulator is ready. All API endpoints are configured.\n"
     ]
    }
   ],
   "source": [
    "import requests\n",
    "import json\n",
    "import pandas as pd\n",
    "import numpy as np\n",
    "\n",
    "# --- Configuration ---\n",
    "# These are the URLs where our two backend services are running\n",
    "PREDICTION_API_URL = \"http://localhost:5000/predict\"\n",
    "RECOMMENDATION_API_URL = \"http://localhost:5001/recommend\"\n",
    "\n",
    "# Helper function to print JSON nicely\n",
    "def print_json(data):\n",
    "    print(json.dumps(data, indent=2))\n",
    "\n",
    "print(\"Simulator is ready. All API endpoints are configured.\")"
   ]
  },
  {
   "cell_type": "markdown",
   "id": "343f0d58",
   "metadata": {},
   "source": [
    "## Part 1: A Day in the Life of \"Rohan\"\n",
    "\n",
    "Let's meet our user, Rohan. He's a 45-year-old developer from Bangalore. He's sedentary, has a family history of diabetes, and his health has been trending downwards.\n",
    "\n",
    "It's 8 PM, and Rohan has just finished a large, high-calorie dinner. He logs this meal in our app."
   ]
  },
  {
   "cell_type": "code",
   "execution_count": 12,
   "id": "02eba70f",
   "metadata": {},
   "outputs": [
    {
     "name": "stdout",
     "output_type": "stream",
     "text": [
      "Rohan's data for today has been captured.\n"
     ]
    }
   ],
   "source": [
    "# This is the data our backend compiles after Rohan logs his meal.\n",
    "\n",
    "# 1. Today's static and nutritional data\n",
    "rohan_user_data = {\n",
    "    \"age\": 45, \"gender\": \"M\", \"bmi\": 29.5, \"has_hereditary_risk\": 1,\n",
    "    \"tee\": 2400, \"calorie_intake\": 2950, \"fat_grams\": 120,\n",
    "    \"carbs_grams\": 380, \"protein_grams\": 130, \"energy_balance\": 550,\n",
    "    \"cumulative_balance\": 45000\n",
    "}\n",
    "\n",
    "# 2. The last 14 days of Rohan's watch data (his recent history)\n",
    "rohan_watch_data = [\n",
    "    {'daily_steps': 4120, 'active_minutes': 15, 'sleep_hours': 6.1, 'sleep_quality_score': 65, 'resting_heart_rate': 72, 'heart_rate_variability': 35},\n",
    "    {'daily_steps': 3850, 'active_minutes': 11, 'sleep_hours': 5.8, 'sleep_quality_score': 62, 'resting_heart_rate': 73, 'heart_rate_variability': 34},\n",
    "    {'daily_steps': 4300, 'active_minutes': 20, 'sleep_hours': 6.5, 'sleep_quality_score': 70, 'resting_heart_rate': 71, 'heart_rate_variability': 36},\n",
    "    {'daily_steps': 3900, 'active_minutes': 12, 'sleep_hours': 6.2, 'sleep_quality_score': 66, 'resting_heart_rate': 72, 'heart_rate_variability': 35},\n",
    "    {'daily_steps': 4050, 'active_minutes': 18, 'sleep_hours': 5.9, 'sleep_quality_score': 63, 'resting_heart_rate': 73, 'heart_rate_variability': 33},\n",
    "    {'daily_steps': 3700, 'active_minutes': 10, 'sleep_hours': 6.0, 'sleep_quality_score': 64, 'resting_heart_rate': 72, 'heart_rate_variability': 34},\n",
    "    {'daily_steps': 4500, 'active_minutes': 25, 'sleep_hours': 6.8, 'sleep_quality_score': 72, 'resting_heart_rate': 70, 'heart_rate_variability': 38},\n",
    "    {'daily_steps': 4210, 'active_minutes': 19, 'sleep_hours': 6.3, 'sleep_quality_score': 68, 'resting_heart_rate': 71, 'heart_rate_variability': 36},\n",
    "    {'daily_steps': 3990, 'active_minutes': 14, 'sleep_hours': 6.1, 'sleep_quality_score': 65, 'resting_heart_rate': 72, 'heart_rate_variability': 35},\n",
    "    {'daily_steps': 4150, 'active_minutes': 16, 'sleep_hours': 6.4, 'sleep_quality_score': 69, 'resting_heart_rate': 71, 'heart_rate_variability': 37},\n",
    "    {'daily_steps': 3800, 'active_minutes': 11, 'sleep_hours': 5.7, 'sleep_quality_score': 61, 'resting_heart_rate': 74, 'heart_rate_variability': 32},\n",
    "    {'daily_steps': 4000, 'active_minutes': 15, 'sleep_hours': 6.0, 'sleep_quality_score': 64, 'resting_heart_rate': 72, 'heart_rate_variability': 35},\n",
    "    {'daily_steps': 4350, 'active_minutes': 22, 'sleep_hours': 6.6, 'sleep_quality_score': 71, 'resting_heart_rate': 71, 'heart_rate_variability': 37},\n",
    "    {'daily_steps': 4250, 'active_minutes': 20, 'sleep_hours': 6.2, 'sleep_quality_score': 67, 'resting_heart_rate': 72, 'heart_rate_variability': 36}\n",
    "]\n",
    "\n",
    "print(\"Rohan's data for today has been captured.\")"
   ]
  },
  {
   "cell_type": "markdown",
   "id": "71683a91",
   "metadata": {},
   "source": [
    "## Part 2: The Prediction Engine\n",
    "\n",
    "The moment Rohan logs his meal, our backend sends this data to our multi-modal deep learning model. The model analyzes his long-term habits (from the watch) and the immediate impact of his meal (from the log) to forecast his health risk."
   ]
  },
  {
   "cell_type": "code",
   "execution_count": 13,
   "id": "9e4b722e",
   "metadata": {},
   "outputs": [
    {
     "name": "stdout",
     "output_type": "stream",
     "text": [
      "--- Sending data to the Prediction API... ---\n",
      "\n",
      "--- Received Live Prediction from Model ---\n",
      "{\n",
      "  \"predicted_ggt\": 35.33000183105469,\n",
      "  \"predicted_triglycerides\": 152.94000244140625\n",
      "}\n"
     ]
    }
   ],
   "source": [
    "# Construct the JSON payload for the prediction API\n",
    "prediction_payload = {\n",
    "    \"user_data\": rohan_user_data,\n",
    "    \"watch_data\": rohan_watch_data\n",
    "}\n",
    "\n",
    "print(\"--- Sending data to the Prediction API... ---\")\n",
    "# Make the API call\n",
    "response = requests.post(PREDICTION_API_URL, json=prediction_payload)\n",
    "prediction_result = response.json()\n",
    "\n",
    "print(\"\\n--- Received Live Prediction from Model ---\")\n",
    "print_json(prediction_result)\n",
    "rohan_predicted_tg = prediction_result.get('predicted_triglycerides', 210)"
   ]
  },
  {
   "cell_type": "markdown",
   "id": "9d84e99c",
   "metadata": {},
   "source": [
    "### Part 2b: Calculating the Fatty Liver Index (FLI)\n",
    "\n",
    "The predicted TG and GGT values are powerful, but the **Fatty Liver Index (FLI)** combines these with BMI and Waist Circumference to provide a validated risk score for NAFLD. This score gives the user an immediate, understandable measure of their current liver health.\n",
    "\n",
    "- **FLI < 30:** Low risk of steatosis (fatty liver).\n",
    "- **FLI 30-60:** Intermediate risk.\n",
    "- **FLI > 60:** High risk of steatosis."
   ]
  },
  {
   "cell_type": "code",
   "execution_count": 15,
   "id": "792f6648",
   "metadata": {},
   "outputs": [
    {
     "name": "stdout",
     "output_type": "stream",
     "text": [
      "--- Calculating FLI using the following inputs ---\n",
      "Predicted TG: 152.94 mg/dL\n",
      "Predicted GGT: 35.33 U/L\n",
      "User BMI: 29.50\n",
      "Assumed Waist Circumference: 102 cm\n",
      "\n",
      "--- Final Risk Assessment ---\n",
      "Calculated Fatty Liver Index (FLI): \u001b[91m75.30\u001b[0m\n",
      "Interpretation: \u001b[91mHIGH RISK of Hepatic Steatosis\u001b[0m\n"
     ]
    }
   ],
   "source": [
    "import math\n",
    "\n",
    "# --- Retrieve the necessary values ---\n",
    "predicted_tg = prediction_result.get('predicted_triglycerides')\n",
    "predicted_ggt = prediction_result.get('predicted_ggt')\n",
    "# Get BMI from the persona data we defined earlier\n",
    "user_bmi = rohan_user_data.get('bmi')\n",
    "\n",
    "# The FLI formula also requires Waist Circumference. \n",
    "# For this simulation, we'll use a realistic value based on Rohan's high-risk profile.\n",
    "waist_circumference_cm = 102 \n",
    "\n",
    "print(f\"--- Calculating FLI using the following inputs ---\")\n",
    "print(f\"Predicted TG: {predicted_tg:.2f} mg/dL\")\n",
    "print(f\"Predicted GGT: {predicted_ggt:.2f} U/L\")\n",
    "print(f\"User BMI: {user_bmi:.2f}\")\n",
    "print(f\"Assumed Waist Circumference: {waist_circumference_cm} cm\\n\")\n",
    "\n",
    "\n",
    "# --- Calculate the FLI using the standard formula ---\n",
    "# We use np.log for the natural logarithm (ln)\n",
    "logit_p = (0.953 * np.log(predicted_tg) + \n",
    "           0.139 * user_bmi + \n",
    "           0.718 * np.log(predicted_ggt) + \n",
    "           0.053 * waist_circumference_cm - 15.745)\n",
    "\n",
    "fli_score = (np.exp(logit_p) / (1 + np.exp(logit_p))) * 100\n",
    "\n",
    "\n",
    "# --- Interpret the result ---\n",
    "if fli_score < 30:\n",
    "    risk_level = \"LOW RISK\"\n",
    "    risk_color = \"\\033[92m\" # Green\n",
    "elif 30 <= fli_score < 60:\n",
    "    risk_level = \"INTERMEDIATE RISK\"\n",
    "    risk_color = \"\\033[93m\" # Yellow\n",
    "else:\n",
    "    risk_level = \"HIGH RISK\"\n",
    "    risk_color = \"\\033[91m\" # Red\n",
    "\n",
    "END_COLOR = \"\\033[0m\"\n",
    "\n",
    "print(\"--- Final Risk Assessment ---\")\n",
    "print(f\"Calculated Fatty Liver Index (FLI): {risk_color}{fli_score:.2f}{END_COLOR}\")\n",
    "print(f\"Interpretation: {risk_color}{risk_level} of Hepatic Steatosis{END_COLOR}\")"
   ]
  },
  {
   "cell_type": "markdown",
   "id": "7c33e12f",
   "metadata": {},
   "source": [
    "## Part 3: The AI Coach (Triage & RAG)\n",
    "\n",
    "Our system sees the high Triglyceride prediction and that Rohan went over his calorie goal. The triage logic decides he needs **immediate dietary advice**.\n",
    "\n",
    "It then calls our RAG-powered Recommendation Engine. It retrieves healthier alternatives from our nutrition database and provides all this context to the Gemini LLM to generate a personalized, empathetic response."
   ]
  },
  {
   "cell_type": "code",
   "execution_count": 14,
   "id": "7aab74bd",
   "metadata": {},
   "outputs": [
    {
     "name": "stdout",
     "output_type": "stream",
     "text": [
      "--- Backend has triaged the situation. Requesting a DIET recommendation from the RAG Engine... ---\n",
      "\n",
      "--- Here is the AI Coach's personalized message to Rohan ---\n",
      "\n",
      "Hey there!  I saw you enjoyed some Mutton Biryani – it’s a delicious dish!  While it's okay to enjoy it occasionally, given your triglyceride levels and goal of preventing fatty liver disease, we need to focus on making some healthier choices moving forward.  Since we don't have a direct biryani replacement in our database, let's think strategically.  Your next meal could benefit from focusing on leaner proteins and more fiber.  We need to gradually reduce your fat intake.\n",
      "\n",
      "\n",
      "Try to plan your next meal around something lighter.  While not a direct substitute for biryani,  we should aim to reduce the fat content considerably from your last meal.   Focusing on a balanced meal with plenty of vegetables will help manage your triglycerides.  Think about incorporating more plant-based proteins and whole grains in your overall diet as well.\n",
      "\n",
      "Let's work together to make small changes that add up to big results!  We can chat more about specific meal plans next time.\n",
      "\n"
     ]
    }
   ],
   "source": [
    "# The backend determines the recommendation type\n",
    "recommendation_type = \"DIET_FIRST\"\n",
    "user_context = {\n",
    "    \"predicted_tg\": rohan_predicted_tg, # Use the live prediction!\n",
    "    \"calorie_target\": 2400\n",
    "}\n",
    "# This is the meal Rohan just logged\n",
    "original_meal = {\n",
    "    \"name\": \"Mutton Biryani\",\n",
    "    \"calories\": 850, \"fat\": 45, \"protein\": 40\n",
    "}\n",
    "\n",
    "# Construct the payload for the RAG API\n",
    "rag_payload = {\n",
    "    \"recommendation_type\": recommendation_type,\n",
    "    \"user_context\": user_context,\n",
    "    \"original_meal\": original_meal\n",
    "}\n",
    "\n",
    "print(\"--- Backend has triaged the situation. Requesting a DIET recommendation from the RAG Engine... ---\")\n",
    "# Make the API call\n",
    "response = requests.post(RECOMMENDATION_API_URL, json=rag_payload)\n",
    "recommendation_result = response.json()\n",
    "\n",
    "print(\"\\n--- Here is the AI Coach's personalized message to Rohan ---\")\n",
    "# Print the final recommendation text\n",
    "print(\"\\n\" + recommendation_result.get('recommendation', \"No recommendation received.\"))"
   ]
  }
 ],
 "metadata": {
  "kernelspec": {
   "display_name": "Python 3",
   "language": "python",
   "name": "python3"
  },
  "language_info": {
   "codemirror_mode": {
    "name": "ipython",
    "version": 3
   },
   "file_extension": ".py",
   "mimetype": "text/x-python",
   "name": "python",
   "nbconvert_exporter": "python",
   "pygments_lexer": "ipython3",
   "version": "3.12.0"
  }
 },
 "nbformat": 4,
 "nbformat_minor": 5
}
